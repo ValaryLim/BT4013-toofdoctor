{
 "cells": [
  {
   "cell_type": "code",
   "execution_count": null,
   "metadata": {},
   "outputs": [],
   "source": [
    "import utils\n",
    "import models.categorical\n",
    "import pandas as pd\n",
    "from datetime import date\n",
    "\n",
    "from sklearn.svm import SVC\n",
    "from sklearn.model_selection import ParameterGrid\n",
    "from sklearn.pipeline import make_pipeline\n",
    "from sklearn.preprocessing import StandardScaler\n",
    "from progressbar import ProgressBar\n",
    "\n",
    "import warnings\n",
    "warnings.filterwarnings(\"ignore\")"
   ]
  },
  {
   "cell_type": "code",
   "execution_count": null,
   "metadata": {},
   "outputs": [],
   "source": [
    "futuresList = utils.futuresList\n",
    "\n",
    "svmParams = [\n",
    "    {\n",
    "        \"C\": [0.1, 0.5, 1.0, 1.5],\n",
    "        \"kernel\": [\"poly\", \"rbf\", \"sigmoid\"],\n",
    "        \"gamma\": [\"scale\", \"auto\"],\n",
    "        \"class_weight\": [\"balanced\", None] \n",
    "    }\n",
    "]\n",
    "\n",
    "start_date = date(2000, 1, 1)"
   ]
  },
  {
   "cell_type": "code",
   "execution_count": null,
   "metadata": {},
   "outputs": [],
   "source": [
    "# retrieve parameter grid\n",
    "pbar = ProgressBar()\n",
    "\n",
    "parameter_grid = list(ParameterGrid(svmParams))\n",
    "\n",
    "for future in pbar(futuresList):\n",
    "    print(future)\n",
    "    # load data\n",
    "    df = pd.read_csv(f\"tickerData/{future}.txt\", parse_dates = [\"DATE\"])\n",
    "    df.columns = ['DATE', 'OPEN', 'HIGH', 'LOW', 'CLOSE', 'VOL', 'OI', 'P', 'R', 'RINFO']\n",
    "    df = df.set_index(\"DATE\")\n",
    "    df = df[(df.VOL != 0) & (df.CLOSE != 0)]\n",
    "    df = df.dropna(axis=0)\n",
    "    \n",
    "    # load X and y\n",
    "    X_df = utils.generate_X_df([df.CLOSE, df.VOL], [\"perc\", \"perc\"])\n",
    "    y_df = utils.generate_y_cat(df.CLOSE)\n",
    "    cost_df = utils.perc_change(df.CLOSE, shift=0)\n",
    "    \n",
    "    # prepare collated results\n",
    "    agg_results_collated = pd.DataFrame(index=list(range(len(parameter_grid))), \n",
    "                                        columns=[\"accuracy_SMA\", \"opp_cost_SMA\", \"accuracy_EMA\", \"opp_cost_EMA\"])\n",
    "    win_results_collated = []\n",
    "\n",
    "    # run walk forward validation \n",
    "    for i in range(len(parameter_grid)):\n",
    "        param_set = parameter_grid[i]\n",
    "        model = make_pipeline(StandardScaler(), SVC(**param_set))\n",
    "        win_results, agg_results = models.categorical.walk_forward(\n",
    "            model = model, X = X_df, y = y_df, cost_weight = cost_df, rolling = True, \n",
    "            max_windows = 100, start_index = start_date\n",
    "        )\n",
    "        win_results_collated.append(win_results)\n",
    "        agg_results_collated.loc[i, \"accuracy_SMA\"] = agg_results.loc[\"SMA\", \"accuracy\"]\n",
    "        agg_results_collated.loc[i, \"accuracy_EMA\"] = agg_results.loc[\"EMA\", \"accuracy\"]\n",
    "        agg_results_collated.loc[i, \"opp_cost_SMA\"] = agg_results.loc[\"SMA\", \"opp_cost\"]\n",
    "        agg_results_collated.loc[i, \"opp_cost_EMA\"] = agg_results.loc[\"EMA\", \"opp_cost\"]\n",
    "\n",
    "    # save parameters\n",
    "    parameter_df = pd.DataFrame.from_records(parameter_grid)\n",
    "    combined_df = pd.concat([parameter_df, agg_results_collated], axis=1)\n",
    "    combined_df.to_csv(f\"model_metrics/svm/perc/{future}.csv\", index=False)"
   ]
  },
  {
   "cell_type": "code",
   "execution_count": null,
   "metadata": {},
   "outputs": [],
   "source": []
  }
 ],
 "metadata": {
  "kernelspec": {
   "display_name": "Python 3",
   "language": "python",
   "name": "python3"
  },
  "language_info": {
   "codemirror_mode": {
    "name": "ipython",
    "version": 3
   },
   "file_extension": ".py",
   "mimetype": "text/x-python",
   "name": "python",
   "nbconvert_exporter": "python",
   "pygments_lexer": "ipython3",
   "version": "3.8.3"
  },
  "toc": {
   "base_numbering": 1,
   "nav_menu": {},
   "number_sections": true,
   "sideBar": true,
   "skip_h1_title": false,
   "title_cell": "Table of Contents",
   "title_sidebar": "Contents",
   "toc_cell": false,
   "toc_position": {},
   "toc_section_display": true,
   "toc_window_display": false
  }
 },
 "nbformat": 4,
 "nbformat_minor": 4
}

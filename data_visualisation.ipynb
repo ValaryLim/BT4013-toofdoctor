{
 "cells": [
  {
   "cell_type": "markdown",
   "source": [
    "\n",
    "This notebook contains visualisations of futures data and macroeconomic indicators, to help us identify possible trends and patterns that could aid us in our preprocessing step."
   ]
  },
  {
   "cell_type": "code",
   "execution_count": null,
   "id": "fourth-reception",
   "metadata": {},
   "outputs": [],
    "import pandas as pd\n",
    "import numpy as np\n",
    "from datetime import datetime\n",
    "import matplotlib.pyplot as plt\n",
    "import utils"
  },
  {
   "cell_type": "code",
   "execution_count": null,
   "id": "satisfactory-alcohol",
   "metadata": {},
   "outputs": [],
   "source": [
    "path = 'tickerData/'\n",
    "FUTURES_LIST = utils.futuresList\n",
    "FUTURES_COLUMNS = ['DATE', 'OPEN', 'HIGH', 'LOW', 'CLOSE', 'VOL', 'OI', 'P', 'R', 'RINFO']\n",
    "\n",
    "MACROIND_LIST = (\n",
    "    'USA_ADP, USA_EARN,\\\n",
    "    USA_HRS, USA_BOT, USA_BC, USA_BI, USA_CU, USA_CF, USA_CHJC, USA_CFNAI,\\\n",
    "    USA_CP, USA_CCR, USA_CPI, USA_CCPI, USA_CINF, USA_DFMI, USA_DUR,\\\n",
    "    USA_DURET, USA_EXPX, USA_EXVOL, USA_FRET, USA_FBI, USA_GBVL, USA_GPAY,\\\n",
    "    USA_HI, USA_IMPX, USA_IMVOL, USA_IP, USA_IPMOM, USA_CPIC, USA_CPICM,\\\n",
    "    USA_JBO, USA_LFPR, USA_LEI, USA_MPAY, USA_MP, USA_NAHB, USA_NLTTF,\\\n",
    "    USA_NFIB, USA_NFP, USA_NMPMI, USA_NPP, USA_EMPST, USA_PHS, USA_PFED,\\\n",
    "    USA_PP, USA_PPIC, USA_RSM, USA_RSY, USA_RSEA, USA_RFMI, USA_TVS, USA_UNR,\\\n",
    "    USA_WINV'\n",
    ").replace(' ', '').split(',')\n",
    "MACROIND_COLUMNS = ['DATE', 'VALUE']"
   ]
  },
  {
   "cell_type": "code",
   "execution_count": null,
   "id": "incorporated-study",
   "metadata": {},
   "outputs": [],
   "source": [
    "def plot_graphs(data_list, data_columns, column, path='', start_date=None, end_date=None):\n",
    "    count = 0\n",
    "    nrows = round(len(data_list)/6)\n",
    "    ncols = 6\n",
    "    fig, ax = plt.subplots(nrows=nrows, ncols=ncols, figsize=(40, 60))\n",
    "    # plt.rcParams.update({'font.size': 24})\n",
    "    fig.tight_layout(pad=4.0)\n",
    "    \n",
    "    for row in range(nrows):\n",
    "        for col in range(ncols):\n",
    "            future_data = pd.read_csv(f'{path+data_list[count]}.txt')\n",
    "            future_data.columns = data_columns\n",
    "            \n",
    "            # datetime column\n",
    "            future_data['DATETIME'] = future_data['DATE'].apply(lambda x: datetime.strptime(str(x), '%Y%m%d'))\n",
    "            \n",
    "            # filter date range\n",
    "            if start_date:\n",
    "                future_data = future_data.loc[future_data['DATETIME'] >= start_date]\n",
    "            if end_date:\n",
    "                future_data = future_data.loc[future_data['DATETIME'] <= end_date]\n",
    "\n",
    "            try:\n",
    "                ax[row, col].plot(future_data['DATETIME'], future_data[column])\n",
    "            except:\n",
    "                print('Column Key Not Found!')\n",
    "            ax[row, col].set_title(data_list[count], fontsize=28)\n",
    "            ax[row, col].set_ylabel(column, fontsize=20)\n",
    "            ax[row, col].set_xlabel('DATE', fontsize=20)\n",
    "            ax[row, col].get_xaxis().set_ticks([])\n",
    "            ax[row, col].get_yaxis().set_ticks([])\n",
    "            plt.grid(color='w')\n",
    "            \n",
    "            count += 1\n",
    "            \n",
    "            if count == len(data_list):\n",
    "                break\n",
    "         \n",
    "    plt.show()"
   ]
  },
  {
   "cell_type": "code",
   "execution_count": null,
   "id": "defensive-diving",
   "metadata": {
    "scrolled": false
   },
   "outputs": [],
   "source": [
    "plot_graphs(FUTURES_LIST, FUTURES_COLUMNS, 'CLOSE', path)"
   ]
  },
  {
   "cell_type": "code",
   "execution_count": null,
   "id": "widespread-mission",
   "metadata": {},
   "outputs": [],
   "source": [
    "start_date = datetime(2015, 1, 1)\n",
    "\n",
    "plot_graphs(FUTURES_LIST, FUTURES_COLUMNS, 'VOL', path, start_date)"
   ]
  },
  {
   "cell_type": "code",
   "execution_count": null,
   "id": "beginning-favorite",
   "metadata": {},
   "outputs": [],
   "source": [
    "plot_graphs(MACROIND_LIST, MACROIND_COLUMNS, 'VALUE', path)"
   ]
  },
  {
   "cell_type": "markdown",
   "id": "hearing-uruguay",
   "metadata": {},
   "source": [
    "# Determining Exponential Trend"
   ]
  },
  {
   "cell_type": "code",
   "execution_count": null,
   "id": "artistic-boutique",
   "metadata": {
    "scrolled": false
   },
   "outputs": [],
   "source": [
    "start_date = datetime(2010, 1, 1)\n",
    "\n",
    "future_corr = {}\n",
    "for future in utils.futuresList:\n",
    "    future_close = utils.prepare_data(future)[start_date:][\"CLOSE\"]\n",
    "    future_index = [0.01*i for i in range(len(future_close))]\n",
    "    future_index_exp = np.exp(future_index)\n",
    "    exp_corr = np.corrcoef(future_close, future_index_exp)[1][0]\n",
    "    linear_corr = np.corrcoef(future_close, future_index)[1][0]\n",
    "    future_corr[future] = [linear_corr, exp_corr]\n",
    "\n",
    "exp_corr_df = pd.DataFrame([{\"future\": future, \"linear_corr\": linear_corr, \"exp_corr\": exp_corr} \n",
    "                            for future, (linear_corr, exp_corr) in future_corr.items()])\n",
    "exp_corr_df.to_csv(\"future_corr.csv\", index=False)"
   ]
  },
  {
   "cell_type": "code",
   "execution_count": null,
   "id": "optimum-chart",
   "metadata": {
    "scrolled": false
   },
   "outputs": [],
   "source": [
    "exp_corr_df[abs(exp_corr_df.linear_corr) < abs(exp_corr_df.exp_corr)]"
   ]
  },
  {
   "cell_type": "code",
   "execution_count": null,
   "id": "informed-asian",
   "metadata": {},
   "outputs": [],
   "source": []
  }
 ],
 "metadata": {
  "kernelspec": {
   "display_name": "Python 3",
   "language": "python",
   "name": "python3"
  },
  "language_info": {
   "codemirror_mode": {
    "name": "ipython",
    "version": 3
   },
   "file_extension": ".py",
   "mimetype": "text/x-python",
   "name": "python",
   "nbconvert_exporter": "python",
   "pygments_lexer": "ipython3",
   "version": "3.7.9"
  },
  "toc": {
   "base_numbering": 1,
   "nav_menu": {},
   "number_sections": true,
   "sideBar": true,
   "skip_h1_title": false,
   "title_cell": "Table of Contents",
   "title_sidebar": "Contents",
   "toc_cell": false,
   "toc_position": {},
   "toc_section_display": true,
   "toc_window_display": false
  }
 },
 "nbformat": 4,
 "nbformat_minor": 5
}

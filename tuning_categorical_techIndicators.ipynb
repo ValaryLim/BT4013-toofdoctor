{
 "cells": [
  {
   "cell_type": "code",
   "execution_count": null,
   "metadata": {},
   "outputs": [],
   "source": [
    "import utils\n",
    "import models.categorical\n",
    "import math\n",
    "import pickle\n",
    "import numpy as np\n",
    "import pandas as pd\n",
    "from datetime import date\n",
    "import os.path\n",
    "from os import path\n",
    "\n",
    "from sklearn.model_selection import ParameterGrid\n",
    "from tqdm import tqdm\n",
    "\n",
    "import warnings\n",
    "warnings.filterwarnings(\"ignore\")"
   ]
  },
  {
   "cell_type": "code",
   "execution_count": null,
   "metadata": {},
   "outputs": [],
   "source": [
    "fourCandleHammerParams = [\n",
    "    {\n",
    "        \"N\": [30, 50],\n",
    "        \"highFactor\": [0.95, 0.85],\n",
    "        \"lowFactor\": [1.05, 1.15]\n",
    "    }\n",
    "]\n",
    "\n",
    "emaParams = [\n",
    "    {\n",
    "        \"shortTermDays\": [10, 20],\n",
    "        \"longTermDays\": [30, 40],\n",
    "        \"NDays\": [50, 60]\n",
    "    }\n",
    "]\n",
    "\n",
    "swingSetupParams = [\n",
    "    {\n",
    "        \"shortTermDays\": [20, 30],\n",
    "        \"longTermDays\": [40, 60],\n",
    "        \"NDays\": [80, 100]\n",
    "    }\n",
    "]\n",
    "\n",
    "start_date = date(2010, 1, 1)\n",
    "end_date = date(2021, 1, 1)\n",
    "futuresList = utils.futuresList"
   ]
  },
  {
   "source": [
    "## Hyperparameter Tuning for FourCandleHammer Strategy"
   ],
   "cell_type": "markdown",
   "metadata": {}
  },
  {
   "cell_type": "code",
   "execution_count": null,
   "metadata": {
    "tags": []
   },
   "outputs": [],
   "source": [
    "# retrieve parameter grid\n",
    "parameter_grid = list(ParameterGrid(fourCandleHammerParams))\n",
    "y_var = \"LONG_SHORT\"\n",
    "file_dir = \"fourCandleHammer/perc/\"\n",
    "\n",
    "for future in tqdm(futuresList):\n",
    "    if path.exists(f\"model_metrics/categorical/{file_dir}{future}.csv\"): continue\n",
    "    print(future)\n",
    "\n",
    "    # load data\n",
    "    df = utils.prepare_data(future)\n",
    "    \n",
    "    # generate X vars\n",
    "    X_vars = ['OPEN', 'HIGH', 'LOW', 'CLOSE', 'VOL']\n",
    "    \n",
    "    # load X and y\n",
    "    X_df, y_df = utils.generate_X_y(df, X_vars=X_vars, y_var=y_var)\n",
    "    cost_df = df[\"CLOSE_PCT\"]\n",
    "\n",
    "    agg_results_collated = pd.DataFrame(index=list(range(len(parameter_grid))), \n",
    "                                        columns=[\"accuracy_SMA\", \"opp_cost_SMA\"])\n",
    "    win_results_collated = []\n",
    "\n",
    "    # run walk forward validation \n",
    "    for i in range(len(parameter_grid)):\n",
    "        param_set = parameter_grid[i]\n",
    "        df_with_strategy = utils.fourCandleHammer(X_df, param_set['N'], param_set['highFactor'], param_set['lowFactor'])\n",
    "        win_results, agg_results = models.categorical.walk_forward_techIndicators(\n",
    "            df_strategy = df_with_strategy, X = X_df, y = y_df, cost_weight = cost_df, rolling = True, \n",
    "            max_windows = 100, start_index = start_date\n",
    "        )\n",
    "        win_results_collated.append(win_results)\n",
    "        agg_results_collated.loc[i, \"accuracy_SMA\"] = agg_results.loc[\"SMA\", \"accuracy\"]\n",
    "        agg_results_collated.loc[i, \"opp_cost_SMA\"] = agg_results.loc[\"SMA\", \"opp_cost\"]\n",
    "        \n",
    "    # save parameters\n",
    "    parameter_df = pd.DataFrame.from_records(parameter_grid)\n",
    "    combined_df = pd.concat([parameter_df, agg_results_collated], axis=1)\n",
    "    combined_df = combined_df.sort_values(by=[\"accuracy_SMA\", \"opp_cost_SMA\"], ascending=False)\n",
    "    combined_df.to_csv(f\"model_metrics/categorical/{file_dir}{future}.csv\", index=False)"
   ]
  },
  {
   "source": [
    "## Save FourCandleHammer Model"
   ],
   "cell_type": "markdown",
   "metadata": {}
  },
  {
   "cell_type": "code",
   "execution_count": null,
   "metadata": {},
   "outputs": [],
   "source": [
    "for future in futuresList:\n",
    "    # prepare X variables\n",
    "    X_vars = ['OPEN', 'HIGH', 'LOW', 'CLOSE', 'VOL']\n",
    "    \n",
    "    # save model\n",
    "    # metric=\"opp_cost_SMA\"\n",
    "    models.categorical.save_model_techIndicators(path='fourCandleHammer/perc', metric=\"accuracy_SMA\", \n",
    "                                                model_wrapper=models.categorical.fourCandleHammerWrapper, \n",
    "                                                future=future, X_vars=X_vars, y_var=\"LONG_SHORT\")\n"
   ]
  },
  {
   "source": [
    "## Hyperparameter Tuning for EMA Strategy"
   ],
   "cell_type": "markdown",
   "metadata": {}
  },
  {
   "cell_type": "code",
   "execution_count": null,
   "metadata": {},
   "outputs": [],
   "source": [
    "# retrieve parameter grid\n",
    "parameter_grid = list(ParameterGrid(emaParams))\n",
    "y_var = \"LONG_SHORT\"\n",
    "file_dir = \"ema/perc/\"\n",
    "\n",
    "for future in tqdm(futuresList):\n",
    "    if path.exists(f\"model_metrics/categorical/{file_dir}{future}.csv\"): continue\n",
    "    print(future)\n",
    "\n",
    "    # load data\n",
    "    df = utils.prepare_data(future)\n",
    "    \n",
    "    # generate X vars\n",
    "    X_vars = ['OPEN', 'HIGH', 'LOW', 'CLOSE', 'VOL']\n",
    "    \n",
    "    # load X and y\n",
    "    X_df, y_df = utils.generate_X_y(df, X_vars=X_vars, y_var=y_var)\n",
    "    cost_df = df[\"CLOSE_PCT\"]\n",
    "\n",
    "    agg_results_collated = pd.DataFrame(index=list(range(len(parameter_grid))), \n",
    "                                        columns=[\"accuracy_SMA\", \"opp_cost_SMA\"])\n",
    "    win_results_collated = []\n",
    "\n",
    "    # run walk forward validation \n",
    "    for i in range(len(parameter_grid)):\n",
    "        param_set = parameter_grid[i]\n",
    "        if param_set['shortTermDays'] > param_set['longTermDays']: continue\n",
    "        df_with_strategy = utils.ema_strategy(X_df, param_set['shortTermDays'], param_set['longTermDays'], param_set['NDays'])\n",
    "        win_results, agg_results = models.categorical.walk_forward_techIndicators(\n",
    "            df_strategy = df_with_strategy, X = X_df, y = y_df, cost_weight = cost_df, rolling = True, \n",
    "            max_windows = 100, start_index = start_date\n",
    "        )\n",
    "        win_results_collated.append(win_results)\n",
    "        agg_results_collated.loc[i, \"accuracy_SMA\"] = agg_results.loc[\"SMA\", \"accuracy\"]\n",
    "        agg_results_collated.loc[i, \"opp_cost_SMA\"] = agg_results.loc[\"SMA\", \"opp_cost\"]\n",
    "\n",
    "    # save parameters\n",
    "    parameter_df = pd.DataFrame.from_records(parameter_grid)\n",
    "    combined_df = pd.concat([parameter_df, agg_results_collated], axis=1)\n",
    "    combined_df = combined_df.sort_values(by=[\"accuracy_SMA\", \"opp_cost_SMA\"], ascending=False)\n",
    "    combined_df.to_csv(f\"model_metrics/categorical/{file_dir}{future}.csv\", index=False)"
   ]
  },
  {
   "source": [
    "## Save EMA Model"
   ],
   "cell_type": "markdown",
   "metadata": {}
  },
  {
   "cell_type": "code",
   "execution_count": null,
   "metadata": {},
   "outputs": [],
   "source": [
    "for future in futuresList:\n",
    "    # prepare X variables\n",
    "    X_vars = ['OPEN', 'HIGH', 'LOW', 'CLOSE', 'VOL']\n",
    "    \n",
    "    # save model\n",
    "    # metric=\"opp_cost_SMA\"\n",
    "    models.categorical.save_model_techIndicators(path='ema/perc', metric=\"accuracy_SMA\", \n",
    "                                                model_wrapper=models.categorical.emaStrategyWrapper, \n",
    "                                                future=future, X_vars=X_vars, y_var=\"LONG_SHORT\")"
   ]
  },
  {
   "source": [
    "## Hyperparameter Tuning for Swing Setup Strategy"
   ],
   "cell_type": "markdown",
   "metadata": {}
  },
  {
   "cell_type": "code",
   "execution_count": null,
   "metadata": {},
   "outputs": [],
   "source": [
    "# retrieve parameter grid\n",
    "parameter_grid = list(ParameterGrid(swingSetupParams))\n",
    "y_var = \"LONG_SHORT\"\n",
    "file_dir = \"swingSetup/perc/\"\n",
    "\n",
    "for future in tqdm(futuresList):\n",
    "    if path.exists(f\"model_metrics/categorical/{file_dir}{future}.csv\"): continue\n",
    "    print(future)\n",
    "\n",
    "    # load data\n",
    "    df = utils.prepare_data(future)\n",
    "    \n",
    "    # generate X vars\n",
    "    X_vars = ['OPEN', 'HIGH', 'LOW', 'CLOSE', 'VOL']\n",
    "    \n",
    "    # load X and y\n",
    "    X_df, y_df = utils.generate_X_y(df, X_vars=X_vars, y_var=y_var)\n",
    "    cost_df = df[\"CLOSE_PCT\"]\n",
    "\n",
    "    agg_results_collated = pd.DataFrame(index=list(range(len(parameter_grid))), \n",
    "                                        columns=[\"accuracy_SMA\", \"opp_cost_SMA\"])\n",
    "    win_results_collated = []\n",
    "\n",
    "    # run walk forward validation \n",
    "    for i in range(len(parameter_grid)):\n",
    "        param_set = parameter_grid[i]\n",
    "        if param_set['shortTermDays'] > param_set['longTermDays']: continue\n",
    "        df_with_strategy = utils.swing_setup(X_df, param_set['shortTermDays'], param_set['longTermDays'], param_set['NDays'])\n",
    "        # print(\"Gotten strategy, now walk fwd\")\n",
    "        win_results, agg_results = models.categorical.walk_forward_techIndicators(\n",
    "            df_strategy = df_with_strategy, X = X_df, y = y_df, cost_weight = cost_df, rolling = True, \n",
    "            max_windows = 100, start_index = start_date\n",
    "        )\n",
    "        # print(\"Done walk fwd\")\n",
    "        win_results_collated.append(win_results)\n",
    "        agg_results_collated.loc[i, \"accuracy_SMA\"] = agg_results.loc[\"SMA\", \"accuracy\"]\n",
    "        agg_results_collated.loc[i, \"opp_cost_SMA\"] = agg_results.loc[\"SMA\", \"opp_cost\"]\n",
    "\n",
    "    # save parameters\n",
    "    parameter_df = pd.DataFrame.from_records(parameter_grid)\n",
    "    combined_df = pd.concat([parameter_df, agg_results_collated], axis=1)\n",
    "    combined_df = combined_df.sort_values(by=[\"accuracy_SMA\", \"opp_cost_SMA\"], ascending=False)\n",
    "    combined_df.to_csv(f\"model_metrics/categorical/{file_dir}{future}.csv\", index=False)"
   ]
  },
  {
   "source": [
    "## Save Swing Setup Model"
   ],
   "cell_type": "markdown",
   "metadata": {}
  },
  {
   "cell_type": "code",
   "execution_count": null,
   "metadata": {},
   "outputs": [],
   "source": [
    "for future in futuresList:\n",
    "    # prepare X variables\n",
    "    X_vars = ['OPEN', 'HIGH', 'LOW', 'CLOSE', 'VOL']\n",
    "    \n",
    "    # save model\n",
    "    # metric=\"opp_cost_SMA\"\n",
    "    models.categorical.save_model_techIndicators(path='swingSetup/perc', metric=\"accuracy_SMA\", \n",
    "                                                model_wrapper=models.categorical.swingSetupWrapper, \n",
    "                                                future=future, X_vars=X_vars, y_var=\"LONG_SHORT\")"
   ]
  },
  {
   "cell_type": "code",
   "execution_count": null,
   "metadata": {},
   "outputs": [],
   "source": []
  }
 ],
 "metadata": {
  "kernelspec": {
   "display_name": "Python 3",
   "language": "python",
   "name": "python3"
  },
  "language_info": {
   "codemirror_mode": {
    "name": "ipython",
    "version": 3
   },
   "file_extension": ".py",
   "mimetype": "text/x-python",
   "name": "python",
   "nbconvert_exporter": "python",
   "pygments_lexer": "ipython3",
   "version": "3.8.5-final"
  },
  "toc": {
   "base_numbering": 1,
   "nav_menu": {},
   "number_sections": true,
   "sideBar": true,
   "skip_h1_title": false,
   "title_cell": "Table of Contents",
   "title_sidebar": "Contents",
   "toc_cell": false,
   "toc_position": {},
   "toc_section_display": true,
   "toc_window_display": false
  }
 },
 "nbformat": 4,
 "nbformat_minor": 4
}
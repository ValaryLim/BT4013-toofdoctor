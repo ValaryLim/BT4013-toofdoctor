{
 "cells": [
  {
   "cell_type": "markdown",
   "id": "central-specification",
   "metadata": {},
   "source": [
    "# XGBoost Model"
   ]
  },
  {
   "cell_type": "code",
   "execution_count": null,
   "id": "traditional-graphic",
   "metadata": {},
   "outputs": [],
   "source": [
    "import utils\n",
    "import models.categorical\n",
    "import math\n",
    "import pickle\n",
    "import numpy as np\n",
    "import pandas as pd\n",
    "from datetime import date\n",
    "\n",
    "import xgboost as xgb # xgboost model\n",
    "from xgboost import XGBClassifier\n",
    "from sklearn.model_selection import ParameterGrid\n",
    "from tqdm import tqdm\n",
    "\n",
    "import warnings\n",
    "warnings.filterwarnings(\"ignore\")"
   ]
  },
  {
   "cell_type": "markdown",
   "id": "signed-classroom",
   "metadata": {
    "heading_collapsed": true
   },
   "source": [
    "# Hyperparameter Tuning\n",
    "\n",
    "**Parameters**\n",
    "- `learning_rate`\n",
    "- `gamma`\n",
    "- `max_depth`"
   ]
  },
  {
   "cell_type": "code",
   "execution_count": null,
   "id": "premium-spare",
   "metadata": {
    "hidden": true
   },
   "outputs": [],
   "source": [
    "xgbParams = [\n",
    "    {'booster': ['gbtree'], # default is gbtree \n",
    "     'learning_rate': [0.01, 0.1, 0.3], # default 0.3\n",
    "     'gamma': [0, 1], # higher means more regularization\n",
    "     'max_depth': [4, 6, 8], # default 6\n",
    "     # 'min_child_weight': [1, 3], # larger means possibly better generalization\n",
    "     # 'n_estimators': [100]\n",
    "    }\n",
    "]\n",
    "\n",
    "\n",
    "start_date = date(2010, 1, 1)\n",
    "end_date = date(2021, 1, 1)"
   ]
  },
  {
   "cell_type": "code",
   "execution_count": null,
   "id": "humanitarian-partner",
   "metadata": {
    "hidden": true,
    "scrolled": true
   },
   "outputs": [],
   "source": [
    "# retrieve parameter grid\n",
    "parameter_grid = list(ParameterGrid(xgbParams))\n",
    "y_var = \"LONG_SHORT\"\n",
    "file_dir = \"xgb/pct_tech_macro/\"\n",
    "\n",
    "for future in tqdm(utils.futuresList):\n",
    "    print(future)\n",
    "\n",
    "    # load data - generates df with PCT and DIFF of close, tech indicators, and macro indicators\n",
    "    df = utils.prepare_data(future)\n",
    "    \n",
    "    # generate X vars\n",
    "    # ['MACD', 'RSI14', 'VPT']\n",
    "    X_vars = utils.generate_X_vars(future, linearise=False, \\\n",
    "                                   tech_indicators=['MACD', 'RSI14', 'VPT'], \\\n",
    "                                   macro_indicators=True)\n",
    "    \n",
    "    print(X_vars)\n",
    "    \n",
    "    # if 'CLOSE_LINEAR_PCT' in X_vars:\n",
    "\n",
    "    # load X and y\n",
    "    X_df, y_df = utils.generate_X_y(df, X_vars=X_vars, y_var=y_var)\n",
    "    cost_df = df[\"CLOSE_PCT\"]\n",
    "\n",
    "    # prepare collated results\n",
    "    agg_results_collated = pd.DataFrame(index=list(range(len(parameter_grid))), \n",
    "                                        columns=[\"accuracy_SMA\", \"opp_cost_SMA\"])\n",
    "    win_results_collated = []\n",
    "\n",
    "    # run walk forward validation \n",
    "    for i in range(len(parameter_grid)):\n",
    "        param_set = parameter_grid[i]\n",
    "        model = XGBClassifier(**param_set)\n",
    "        win_results, agg_results = models.categorical.walk_forward(\n",
    "            model = model, X = X_df, y = y_df, cost_weight = cost_df, rolling = True, \n",
    "            max_windows = 100, start_index = start_date\n",
    "        )\n",
    "        win_results_collated.append(win_results)\n",
    "        agg_results_collated.loc[i, \"accuracy_SMA\"] = agg_results.loc[\"SMA\", \"accuracy\"]\n",
    "        agg_results_collated.loc[i, \"opp_cost_SMA\"] = agg_results.loc[\"SMA\", \"opp_cost\"]\n",
    "\n",
    "    # save parameters\n",
    "    parameter_df = pd.DataFrame.from_records(parameter_grid)\n",
    "    combined_df = pd.concat([parameter_df, agg_results_collated], axis=1)\n",
    "    # sort by lowest opp cost\n",
    "    combined_df = combined_df.sort_values(by=[\"opp_cost_SMA\"], ascending=True)\n",
    "    combined_df.to_csv(f\"model_metrics/categorical/{file_dir}{future}.csv\", index=False)"
   ]
  },
  {
   "cell_type": "code",
   "execution_count": null,
   "id": "whole-instrument",
   "metadata": {
    "hidden": true
   },
   "outputs": [],
   "source": []
  },
  {
   "cell_type": "markdown",
   "id": "otherwise-regular",
   "metadata": {
    "heading_collapsed": true
   },
   "source": [
    "# Results of Tuning"
   ]
  },
  {
   "cell_type": "markdown",
   "id": "broken-fourth",
   "metadata": {
    "heading_collapsed": true,
    "hidden": true
   },
   "source": [
    "## Opp Cost Summary"
   ]
  },
  {
   "cell_type": "code",
   "execution_count": null,
   "id": "automatic-complaint",
   "metadata": {
    "hidden": true
   },
   "outputs": [],
   "source": [
    "filepaths = ['pct', 'pct_tech', 'pct_macro', 'pct_tech_macro']\n",
    "\n",
    "# get validation statistics\n",
    "lowest_cost_lst = []\n",
    "\n",
    "param_df = pd.DataFrame()\n",
    "\n",
    "for filepath in filepaths:\n",
    "    print(filepath)\n",
    "    for future in tqdm(utils.futuresList):\n",
    "        future_metric = pd.read_csv(f'model_metrics/categorical/xgb/{filepath}/{future}.csv')\n",
    "        # get lowest opp cost\n",
    "        future_cost = future_metric.loc[future_metric['opp_cost_SMA'] == min(future_metric['opp_cost_SMA'])].reset_index(drop=True)\n",
    "        future_cost_val = future_cost.iloc[0]['opp_cost_SMA']\n",
    "        lowest_cost_lst.append(future_cost_val)\n",
    "\n",
    "        row = dict()\n",
    "\n",
    "        for col in future_cost.columns:\n",
    "            if (col[:8] != 'opp_cost') & (col[:8] != 'accuracy'):\n",
    "                row[col] = future_cost.iloc[0][col]\n",
    "\n",
    "        row['future'] = future\n",
    "        param_df = param_df.append(row, ignore_index=True)\n",
    "    \n",
    "    print(\"Average Opp Cost: \", sum(lowest_cost_lst)/len(lowest_cost_lst))\n",
    "    print(param_df['learning_rate'].value_counts())\n",
    "    print(param_df['gamma'].value_counts())\n",
    "    print(param_df['max_depth'].value_counts())\n",
    "    print(\"=============================================\")"
   ]
  },
  {
   "cell_type": "code",
   "execution_count": null,
   "id": "rough-virus",
   "metadata": {
    "hidden": true
   },
   "outputs": [],
   "source": []
  },
  {
   "cell_type": "markdown",
   "id": "fitted-subscriber",
   "metadata": {
    "heading_collapsed": true,
    "hidden": true
   },
   "source": [
    "## Best X_vars Summary\n",
    "\n",
    "**Evaluated based on: Lowest Opp Cost SMA**\n",
    "\n",
    "`[CLOSE_PCT, VOL_PCT]` vs `[CLOSE_PCT, VOL_PCT, MACD, RSI14, VPT]`\n",
    "- 47 out of 88 futures performed better with added tech indicators\n",
    "\n",
    "`[CLOSE_PCT, VOL_PCT]` vs `[CLOSE_PCT, VOL_PCT, +macroIndicators]`\n",
    "- 60 out of 88 futures performed better with added macro indicators\n",
    "\n",
    "`[CLOSE_PCT, VOL_PCT]` vs `[CLOSE_PCT, VOL_PCT, MACD, RSI14, VPT, +macroIndicators]`\n",
    "- 46 out of 88 futures performed better with added macro indicators\n",
    "\n",
    "`[CLOSE_PCT, VOL_PCT, MACD, RSI14, VPT]` vs `[CLOSE_PCT, VOL_PCT, +macroIndicators]`\n",
    "- 37 out of 88 futures performed better with added macro indicators compared to tech indicators\n",
    "\n",
    "`[CLOSE_PCT, VOL_PCT, MACD, RSI14, VPT]` vs `[CLOSE_PCT, VOL_PCT, MACD, RSI14, VPT, +macroIndicators]`\n",
    "- 62 out of 88 futures performed better in the second case\n",
    "\n",
    "`[CLOSE_PCT, VOL_PCT, +macroIndicators]` vs `[CLOSE_PCT, VOL_PCT, MACD, RSI14, VPT, +macroIndicators]`\n",
    "- 45 out of 88 futures performed better in the second case"
   ]
  },
  {
   "cell_type": "code",
   "execution_count": null,
   "id": "precious-blame",
   "metadata": {
    "hidden": true
   },
   "outputs": [],
   "source": [
    "count = 0\n",
    "\n",
    "for future in tqdm(utils.futuresList):\n",
    "    perc = pd.read_csv(f\"model_metrics/categorical/xgb/pct_macro/{future}.csv\")\n",
    "    perc_best = max(perc['opp_cost_SMA'])\n",
    "        \n",
    "    perc_2 = pd.read_csv(f\"model_metrics/categorical/xgb/pct_tech_macro/{future}.csv\")\n",
    "    perc_2_best = max(perc_2['opp_cost_SMA'])\n",
    "    if (perc_2_best <= perc_best):\n",
    "        # second model is better\n",
    "        count += 1\n",
    "        # print('*', future, perc_best-perc_2_best)\n",
    "    else:\n",
    "        # print(future, perc_2_best-perc_best)\n",
    "        continue\n",
    "\n",
    "print(count)"
   ]
  },
  {
   "cell_type": "markdown",
   "id": "analyzed-liberia",
   "metadata": {
    "heading_collapsed": true,
    "hidden": true
   },
   "source": [
    "## Best Tuning Params Summary"
   ]
  },
  {
   "cell_type": "code",
   "execution_count": null,
   "id": "grateful-insight",
   "metadata": {
    "hidden": true
   },
   "outputs": [],
   "source": [
    "best_params = pd.DataFrame()\n",
    "\n",
    "for future in tqdm(utils.futuresList):\n",
    "    perc = pd.read_csv(f\"model_metrics/categorical/xgb/pct_tech_macro/{future}.csv\")\n",
    "    perc_best = max(perc['opp_cost_SMA'])\n",
    "    best_params = best_params.append(perc.loc[perc['opp_cost_SMA'] == perc_best], ignore_index=True)"
   ]
  },
  {
   "cell_type": "code",
   "execution_count": null,
   "id": "united-highlight",
   "metadata": {
    "hidden": true
   },
   "outputs": [],
   "source": [
    "best_params['learning_rate'].value_counts()"
   ]
  },
  {
   "cell_type": "code",
   "execution_count": null,
   "id": "sonic-syracuse",
   "metadata": {
    "hidden": true
   },
   "outputs": [],
   "source": [
    "best_params['gamma'].value_counts()"
   ]
  },
  {
   "cell_type": "code",
   "execution_count": null,
   "id": "funny-radiation",
   "metadata": {
    "hidden": true
   },
   "outputs": [],
   "source": [
    "best_params['max_depth'].value_counts()"
   ]
  },
  {
   "cell_type": "code",
   "execution_count": null,
   "id": "boring-thomson",
   "metadata": {
    "hidden": true
   },
   "outputs": [],
   "source": []
  },
  {
   "cell_type": "markdown",
   "id": "vertical-seating",
   "metadata": {
    "heading_collapsed": true
   },
   "source": [
    "# Save Meta Predictions"
   ]
  },
  {
   "cell_type": "code",
   "execution_count": null,
   "id": "flying-criterion",
   "metadata": {
    "hidden": true,
    "scrolled": true
   },
   "outputs": [],
   "source": [
    "file_dir = \"xgb/pct\"\n",
    "y_var = \"LONG_SHORT\"\n",
    "\n",
    "for future in tqdm(utils.futuresList):\n",
    "    print(future)\n",
    "    \n",
    "    # generate X vars\n",
    "    X_vars = utils.generate_X_vars(future, linearise=False, \\\n",
    "                                   tech_indicators=[], macro_indicators=False)\n",
    "    \n",
    "    models.categorical.save_meta_predictions(\n",
    "        path = file_dir, metric=\"opp_cost_SMA\", model_fn = XGBClassifier, future = future,\n",
    "        X_vars = X_vars, y_var = y_var, model_name = \"xgb\"\n",
    "    )"
   ]
  },
  {
   "cell_type": "code",
   "execution_count": null,
   "id": "mounted-dance",
   "metadata": {
    "hidden": true
   },
   "outputs": [],
   "source": [
    "file_dir = \"xgb/pct_tech\"\n",
    "y_var = \"LONG_SHORT\"\n",
    "\n",
    "for future in tqdm(utils.futuresList):\n",
    "    print(future)\n",
    "    \n",
    "    # generate X vars\n",
    "    X_vars = utils.generate_X_vars(future, linearise=False, \\\n",
    "                                   tech_indicators=['MACD', 'RSI14', 'VPT'], macro_indicators=False)\n",
    "    \n",
    "    models.categorical.save_meta_predictions(\n",
    "        path = file_dir, metric=\"opp_cost_SMA\", model_fn = XGBClassifier, future = future,\n",
    "        X_vars = X_vars, y_var = y_var, model_name = \"xgb\"\n",
    "    )"
   ]
  },
  {
   "cell_type": "code",
   "execution_count": null,
   "id": "built-failing",
   "metadata": {
    "hidden": true
   },
   "outputs": [],
   "source": [
    "file_dir = \"xgb/pct_macro\"\n",
    "y_var = \"LONG_SHORT\"\n",
    "\n",
    "for future in tqdm(utils.futuresList):\n",
    "    print(future)\n",
    "    \n",
    "    # generate X vars\n",
    "    X_vars = utils.generate_X_vars(future, linearise=False, \\\n",
    "                                   tech_indicators=[], macro_indicators=True)\n",
    "    \n",
    "    models.categorical.save_meta_predictions(\n",
    "        path = file_dir, metric=\"opp_cost_SMA\", model_fn = XGBClassifier, future = future,\n",
    "        X_vars = X_vars, y_var = y_var, model_name = \"xgb\"\n",
    "    )"
   ]
  },
  {
   "cell_type": "code",
   "execution_count": null,
   "id": "enclosed-journalism",
   "metadata": {
    "hidden": true
   },
   "outputs": [],
   "source": [
    "file_dir = \"xgb/pct_tech_macro\"\n",
    "y_var = \"LONG_SHORT\"\n",
    "\n",
    "for future in tqdm(utils.futuresList):\n",
    "    print(future)\n",
    "    \n",
    "    # generate X vars\n",
    "    X_vars = utils.generate_X_vars(future, linearise=False, \\\n",
    "                                   tech_indicators=['MACD', 'RSI14', 'VPT'], macro_indicators=True)\n",
    "    \n",
    "    models.categorical.save_meta_predictions(\n",
    "        path = file_dir, metric=\"opp_cost_SMA\", model_fn = XGBClassifier, future = future,\n",
    "        X_vars = X_vars, y_var = y_var, model_name = \"xgb\"\n",
    "    )"
   ]
  },
  {
   "cell_type": "code",
   "execution_count": null,
   "id": "representative-conversion",
   "metadata": {
    "hidden": true
   },
   "outputs": [],
   "source": []
  },
  {
   "cell_type": "markdown",
   "id": "mature-grove",
   "metadata": {},
   "source": [
    "# Save Models"
   ]
  },
  {
   "cell_type": "code",
   "execution_count": null,
   "id": "communist-recommendation",
   "metadata": {
    "scrolled": true
   },
   "outputs": [],
   "source": [
    "# train_start = date(2018, 9, 1)\n",
    "# train_end = date(2020, 9, 30)\n",
    "train_start = date(2019, 1, 1)\n",
    "train_end = date(2020, 12, 31)\n",
    "\n",
    "for future in utils.futuresList:\n",
    "    # prepare X variables\n",
    "    X_vars = utils.generate_X_vars(future, linearise=False, \\\n",
    "                                   tech_indicators=[], \\\n",
    "                                   macro_indicators=False)\n",
    "    \n",
    "    models.categorical.save_model(path='xgb/pct', metric=\"opp_cost_SMA\", \\\n",
    "                                  model_fn=XGBClassifier, model_wrapper=models.categorical.XGBWrapper, \\\n",
    "                                  future=future, X_vars=X_vars, y_var=\"LONG_SHORT\", \\\n",
    "                                  ext_path=\"csv\",\\\n",
    "                                  train_start=train_start, train_end=train_end)\n",
    "    # print(f'{future} done')"
   ]
  },
  {
   "cell_type": "code",
   "execution_count": null,
   "id": "sorted-schema",
   "metadata": {},
   "outputs": [],
   "source": [
    "for future in utils.futuresList:\n",
    "    # prepare X variables\n",
    "    X_vars = utils.generate_X_vars(future, linearise=False, \\\n",
    "                                   tech_indicators=[\"MACD\", \"RSI14\", \"VPT\"], \\\n",
    "                                   macro_indicators=False)\n",
    "    \n",
    "    models.categorical.save_model(path='xgb/pct_tech', metric=\"opp_cost_SMA\", \\\n",
    "                                  model_fn=XGBClassifier, model_wrapper=models.categorical.XGBWrapper, \\\n",
    "                                  future=future, X_vars=X_vars, y_var=\"LONG_SHORT\", \\\n",
    "                                  ext_path=\"csv\",\\\n",
    "                                  train_start=train_start, train_end=train_end)\n",
    "    # print(f'{future} done')"
   ]
  },
  {
   "cell_type": "code",
   "execution_count": null,
   "id": "interim-novelty",
   "metadata": {},
   "outputs": [],
   "source": [
    "for future in utils.futuresList:\n",
    "    # prepare X variables\n",
    "    X_vars = utils.generate_X_vars(future, linearise=False, \\\n",
    "                                   tech_indicators=[], \\\n",
    "                                   macro_indicators=True)\n",
    "    \n",
    "    models.categorical.save_model(path='xgb/pct_macro', metric=\"opp_cost_SMA\", \\\n",
    "                                  model_fn=XGBClassifier, model_wrapper=models.categorical.XGBWrapper, \\\n",
    "                                  future=future, X_vars=X_vars, y_var=\"LONG_SHORT\", \\\n",
    "                                  ext_path=\"csv\",\\\n",
    "                                  train_start=train_start, train_end=train_end)\n",
    "    # print(f'{future} done')"
   ]
  },
  {
   "cell_type": "code",
   "execution_count": null,
   "id": "fabulous-lawyer",
   "metadata": {},
   "outputs": [],
   "source": [
    "for future in utils.futuresList:\n",
    "    # prepare X variables\n",
    "    X_vars = utils.generate_X_vars(future, linearise=False, \\\n",
    "                                   tech_indicators=[\"MACD\", \"RSI14\", \"VPT\"], \\\n",
    "                                   macro_indicators=True)\n",
    "    \n",
    "    models.categorical.save_model(path='xgb/pct_tech_macro', metric=\"opp_cost_SMA\", \\\n",
    "                                  model_fn=XGBClassifier, model_wrapper=models.categorical.XGBWrapper, \\\n",
    "                                  future=future, X_vars=X_vars, y_var=\"LONG_SHORT\", \\\n",
    "                                  ext_path=\"csv\",\\\n",
    "                                  train_start=train_start, train_end=train_end)\n",
    "    # print(f'{future} done')"
   ]
  },
  {
   "cell_type": "code",
   "execution_count": null,
   "id": "alien-replica",
   "metadata": {},
   "outputs": [],
   "source": []
  },
  {
   "cell_type": "code",
   "execution_count": null,
   "id": "streaming-calgary",
   "metadata": {},
   "outputs": [],
   "source": []
  }
 ],
 "metadata": {
  "kernelspec": {
   "display_name": "Python 3",
   "language": "python",
   "name": "python3"
  },
  "language_info": {
   "codemirror_mode": {
    "name": "ipython",
    "version": 3
   },
   "file_extension": ".py",
   "mimetype": "text/x-python",
   "name": "python",
   "nbconvert_exporter": "python",
   "pygments_lexer": "ipython3",
   "version": "3.7.9"
  }
 },
 "nbformat": 4,
 "nbformat_minor": 5
}

{
 "cells": [
  {
   "cell_type": "code",
   "execution_count": null,
   "id": "traditional-graphic",
   "metadata": {},
   "outputs": [],
   "source": [
    "import utils\n",
    "import models.categorical\n",
    "import math\n",
    "import pickle\n",
    "import numpy as np\n",
    "import pandas as pd\n",
    "from datetime import date\n",
    "\n",
    "import xgboost as xgb # xgboost model\n",
    "from xgboost import XGBClassifier\n",
    "from sklearn.model_selection import ParameterGrid\n",
    "from tqdm import tqdm\n",
    "\n",
    "import warnings\n",
    "warnings.filterwarnings(\"ignore\")"
   ]
  },
  {
   "cell_type": "markdown",
   "id": "signed-classroom",
   "metadata": {
    "heading_collapsed": true
   },
   "source": [
    "# Hyperparameter Tuning\n",
    "\n",
    "**Parameters**"
   ]
  },
  {
   "cell_type": "code",
   "execution_count": null,
   "id": "premium-spare",
   "metadata": {
    "hidden": true
   },
   "outputs": [],
   "source": [
    "xgbParams = [\n",
    "    {'booster': ['gbtree', 'dart'], # default is gbtree\n",
    "     'learning_rate': [0.1, 0.3], # default 0.3\n",
    "     'gamma': [0, 1], # higher means more regularization\n",
    "     'max_depth': [6, 9], # default 6\n",
    "     # 'min_child_weight': [1, 3], # larger means possibly better generalization\n",
    "     # 'n_estimators': [100]\n",
    "    }\n",
    "]\n",
    "\n",
    "\n",
    "start_date = date(2010, 1, 1)\n",
    "end_date = date(2021, 1, 1)"
   ]
  },
  {
   "cell_type": "code",
   "execution_count": null,
   "id": "humanitarian-partner",
   "metadata": {
    "hidden": true,
    "scrolled": true
   },
   "outputs": [],
   "source": [
    "# retrieve parameter grid\n",
    "parameter_grid = list(ParameterGrid(xgbParams))\n",
    "y_var = \"LONG_SHORT\"\n",
    "file_dir = \"xgb/perc_linear/\"\n",
    "\n",
    "for future in tqdm(utils.futuresList):\n",
    "    print(future)\n",
    "\n",
    "    # load data - generates df with PCT and DIFF of close, tech indicators, and macro indicators\n",
    "    df = utils.prepare_data(future)\n",
    "    \n",
    "    # generate X vars\n",
    "    X_vars = utils.generate_X_vars(future, linearise=True, \\\n",
    "                                   tech_indicators=[], \\\n",
    "                                   macro_indicators=False)\n",
    "    \n",
    "    print(X_vars)\n",
    "    \n",
    "    if 'CLOSE_LINEAR_PCT' in X_vars:\n",
    "\n",
    "        # load X and y\n",
    "        X_df, y_df = utils.generate_X_y(df, X_vars=X_vars, y_var=y_var)\n",
    "        cost_df = df[\"CLOSE_PCT\"]\n",
    "\n",
    "        # prepare collated results\n",
    "        agg_results_collated = pd.DataFrame(index=list(range(len(parameter_grid))), \n",
    "                                            columns=[\"accuracy_SMA\", \"opp_cost_SMA\"])\n",
    "        win_results_collated = []\n",
    "\n",
    "        # run walk forward validation \n",
    "        for i in range(len(parameter_grid)):\n",
    "            param_set = parameter_grid[i]\n",
    "            model = XGBClassifier(**param_set)\n",
    "            win_results, agg_results = models.categorical.walk_forward(\n",
    "                model = model, X = X_df, y = y_df, cost_weight = cost_df, rolling = True, \n",
    "                max_windows = 100, start_index = start_date\n",
    "            )\n",
    "            win_results_collated.append(win_results)\n",
    "            agg_results_collated.loc[i, \"accuracy_SMA\"] = agg_results.loc[\"SMA\", \"accuracy\"]\n",
    "            agg_results_collated.loc[i, \"opp_cost_SMA\"] = agg_results.loc[\"SMA\", \"opp_cost\"]\n",
    "\n",
    "        # save parameters\n",
    "        parameter_df = pd.DataFrame.from_records(parameter_grid)\n",
    "        combined_df = pd.concat([parameter_df, agg_results_collated], axis=1)\n",
    "        # sort by lowest opp cost\n",
    "        combined_df = combined_df.sort_values(by=[\"opp_cost_SMA\"], ascending=True)\n",
    "        combined_df.to_csv(f\"model_metrics/categorical/{file_dir}{future}.csv\", index=False)\n",
    "        \n",
    "    else:\n",
    "        print(\"no linearisation required\")\n"
   ]
  },
  {
   "cell_type": "markdown",
   "id": "mounted-choir",
   "metadata": {},
   "source": [
    "# Results of Tuning"
   ]
  },
  {
   "cell_type": "markdown",
   "id": "governing-polls",
   "metadata": {
    "heading_collapsed": true
   },
   "source": [
    "## Best X_vars Summary\n",
    "\n",
    "**Evaluated based on: Lowest Opp Cost SMA**\n",
    "\n",
    "`[CLOSE_PCT, VOL_PCT]` vs `[CLOSE_LINEAR_PCT, VOL_LINEAR_PCT]`\n",
    "- 2 out of 10 futures models performed better when linearized\n",
    "- `F_LC` and `F_TY`\n",
    "\n",
    "`[CLOSE_PCT, VOL_PCT]` vs `[CLOSE_PCT, VOL_PCT, +techIndicators, +macroIndicators]`\n",
    "- all futures except `F_ZQ` perform better with added technical indicators and macro indicators\n",
    "\n",
    "`[CLOSE_PCT, VOL_PCT, +tech, +macro]` vs `[CLOSE_LINEAR_PCT, VOL_LINEAER_PCT, +tech, +macro]`\n",
    "- 0 out of 10 futures models performed better when linearized"
   ]
  },
  {
   "cell_type": "code",
   "execution_count": null,
   "id": "equivalent-physiology",
   "metadata": {
    "hidden": true
   },
   "outputs": [],
   "source": [
    "for future in tqdm(utils.futuresList):\n",
    "    perc = pd.read_csv(f\"model_metrics/categorical/xgb/perc_tech_macro/{future}.csv\")\n",
    "    perc_best = max(perc['opp_cost_SMA'])\n",
    "    \n",
    "    try:\n",
    "        perc_linear = pd.read_csv(f\"model_metrics/categorical/rf/perc_linear_tech_macro/{future}.csv\")\n",
    "        perc_linear_best = max(perc_linear['opp_cost_SMA'])\n",
    "        if (perc_linear_best <= perc_best):\n",
    "            # print(future, perc_linear.loc[perc_linear['opp_cost_SMA'] == perc_linear_best])\n",
    "            print('*', future, perc_best-perc_linear_best)  \n",
    "        else:\n",
    "            print(future, perc_linear_best-perc_best)\n",
    "        continue\n",
    "    except:      \n",
    "        # print(future, perc.loc[perc['opp_cost_SMA'] == perc_best])\n",
    "        continue"
   ]
  },
  {
   "cell_type": "markdown",
   "id": "musical-guarantee",
   "metadata": {
    "heading_collapsed": true
   },
   "source": [
    "## Best Tuning Params Summary\n",
    "\n",
    "- `booster`: `gbtree` (77), `dart` (11)\n",
    "- `learning_rate`: 0.1 works better, default=0.3\n",
    "- `gamma`: 1 works best for all, more regularisation\n",
    "- `max_depth`: 6 (default) works best for all, higher depth=9 probably led to overfitting"
   ]
  },
  {
   "cell_type": "code",
   "execution_count": null,
   "id": "julian-wayne",
   "metadata": {
    "hidden": true
   },
   "outputs": [],
   "source": [
    "best_params = pd.DataFrame()\n",
    "\n",
    "for future in tqdm(utils.futuresList):\n",
    "    try:\n",
    "        perc = pd.read_csv(f\"model_metrics/categorical/xgb/perc_linear_tech_macro/{future}.csv\")\n",
    "    except:\n",
    "        perc = pd.read_csv(f\"model_metrics/categorical/xgb/perc_tech_macro/{future}.csv\")\n",
    "    perc_best = max(perc['opp_cost_SMA'])\n",
    "    perc_best_row = pd.DataFrame(perc.loc[perc['opp_cost_SMA'] == perc_best]).reset_index(drop=True).iloc[0]\n",
    "    best_params = best_params.append(perc_best_row, ignore_index=True)"
   ]
  },
  {
   "cell_type": "code",
   "execution_count": null,
   "id": "printable-impossible",
   "metadata": {
    "hidden": true
   },
   "outputs": [],
   "source": [
    "best_params['booster'].value_counts()"
   ]
  },
  {
   "cell_type": "code",
   "execution_count": null,
   "id": "sharp-savage",
   "metadata": {
    "hidden": true
   },
   "outputs": [],
   "source": [
    "best_params['learning_rate'].value_counts()"
   ]
  },
  {
   "cell_type": "code",
   "execution_count": null,
   "id": "major-candle",
   "metadata": {
    "hidden": true
   },
   "outputs": [],
   "source": [
    "best_params['gamma'].value_counts()"
   ]
  },
  {
   "cell_type": "code",
   "execution_count": null,
   "id": "analyzed-pearl",
   "metadata": {
    "hidden": true
   },
   "outputs": [],
   "source": [
    "best_params['max_depth'].value_counts()"
   ]
  },
  {
   "cell_type": "markdown",
   "id": "mature-grove",
   "metadata": {},
   "source": [
    "# Save Models"
   ]
  },
  {
   "cell_type": "code",
   "execution_count": null,
   "id": "communist-recommendation",
   "metadata": {
    "scrolled": true
   },
   "outputs": [],
   "source": [
    "train_start = date(2018, 9, 1)\n",
    "train_end = date(2020, 9, 30)\n",
    "\n",
    "for future in utils.futuresList:\n",
    "    # prepare X variables\n",
    "    X_vars = utils.generate_X_vars(future, linearise=True, \\\n",
    "                                   tech_indicators=[\"MACD\", \"RSI14\", \"VPT\"], \\\n",
    "                                   macro_indicators=True)\n",
    "    \n",
    "    # save model\n",
    "    try:\n",
    "        models.categorical.save_model(path='xgb/perc_linear_tech_macro', metric=\"opp_cost_SMA\", \\\n",
    "                                      model_fn=XGBClassifier, model_wrapper=models.categorical.XGBWrapper, \\\n",
    "                                      future=future, X_vars=X_vars, y_var=\"LONG_SHORT\", \\\n",
    "                                      ext_path=\"csv\",\\\n",
    "                                      train_start=train_start, train_end=train_end)\n",
    "        print(f'{future} done')\n",
    "    except:\n",
    "        models.categorical.save_model(path='xgb/perc_tech_macro', metric=\"opp_cost_SMA\", \\\n",
    "                              model_fn=XGBClassifier, model_wrapper=models.categorical.XGBWrapper, \\\n",
    "                              future=future, X_vars=X_vars, y_var=\"LONG_SHORT\", \\\n",
    "                              ext_path=\"csv\",\\\n",
    "                              train_start=train_start, train_end=train_end)\n",
    "        print(f'{future} done')"
   ]
  },
  {
   "cell_type": "code",
   "execution_count": null,
   "id": "sorted-schema",
   "metadata": {},
   "outputs": [],
   "source": []
  },
  {
   "cell_type": "code",
   "execution_count": null,
   "id": "interim-novelty",
   "metadata": {},
   "outputs": [],
   "source": []
  },
  {
   "cell_type": "code",
   "execution_count": null,
   "id": "fabulous-lawyer",
   "metadata": {},
   "outputs": [],
   "source": []
  }
 ],
 "metadata": {
  "kernelspec": {
   "display_name": "Python 3",
   "language": "python",
   "name": "python3"
  },
  "language_info": {
   "codemirror_mode": {
    "name": "ipython",
    "version": 3
   },
   "file_extension": ".py",
   "mimetype": "text/x-python",
   "name": "python",
   "nbconvert_exporter": "python",
   "pygments_lexer": "ipython3",
   "version": "3.7.9"
  }
 },
 "nbformat": 4,
 "nbformat_minor": 5
}

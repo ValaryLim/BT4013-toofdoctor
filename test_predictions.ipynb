{
 "cells": [
  {
   "cell_type": "code",
   "execution_count": 1,
   "metadata": {},
   "outputs": [],
   "source": [
    "import utils\n",
    "import models.categorical\n",
    "import math\n",
    "import pickle\n",
    "import numpy as np\n",
    "import pandas as pd\n",
    "from datetime import date\n",
    "\n",
    "from sklearn.linear_model import LogisticRegression\n",
    "from sklearn.model_selection import ParameterGrid\n",
    "from tqdm import tqdm\n",
    "\n",
    "import warnings\n",
    "warnings.filterwarnings(\"ignore\")"
   ]
  },
  {
   "cell_type": "code",
   "execution_count": 2,
   "metadata": {},
   "outputs": [
    {
     "name": "stderr",
     "output_type": "stream",
     "text": [
      "\r",
      "  0%|          | 0/88 [00:00<?, ?it/s]"
     ]
    },
    {
     "name": "stdout",
     "output_type": "stream",
     "text": [
      "F_AD\n"
     ]
    },
    {
     "name": "stderr",
     "output_type": "stream",
     "text": [
      "  0%|          | 0/88 [00:00<?, ?it/s]\n"
     ]
    }
   ],
   "source": [
    "file_dir = \"logreg/pct/\"\n",
    "y_var = \"LONG_SHORT\"\n",
    "\n",
    "for future in tqdm(utils.futuresList):\n",
    "    print(future)\n",
    "    \n",
    "    # generate X vars\n",
    "    X_vars = utils.generate_X_vars(future, linearise=False, tech_indicators=[], macro_indicators=False)\n",
    "    \n",
    "    models.categorical.save_meta_predictions(\n",
    "        path = file_dir, metric=\"opp_cost_SMA\", model_fn = LogisticRegression, future = future,\n",
    "        X_vars = X_vars, y_var = y_var, model_name = \"logreg\"\n",
    "    )"
   ]
  },
  {
   "cell_type": "code",
   "execution_count": 4,
   "metadata": {},
   "outputs": [],
   "source": [
    "preds"
   ]
  },
  {
   "cell_type": "code",
   "execution_count": null,
   "metadata": {},
   "outputs": [],
   "source": [
    "# retrieve parameter grid\n",
    "parameter_grid = list(ParameterGrid(logregParams))\n",
    "y_var = \"LONG_SHORT\"\n",
    "file_dir = \"logreg/pct/\"\n",
    "\n",
    "for future in tqdm(utils.futuresList):\n",
    "    print(future)\n",
    "\n",
    "    # load data\n",
    "    df = utils.prepare_data(future)\n",
    "    \n",
    "    # generate X vars\n",
    "    X_vars = utils.generate_X_vars(future, linearise=False, \\\n",
    "                                   tech_indicators=[], \\\n",
    "                                   macro_indicators=False)\n",
    "    \n",
    "    # load X and y\n",
    "    X_df, y_df = utils.generate_X_y(df, X_vars=X_vars, y_var=y_var)\n",
    "    cost_df = df[\"CLOSE_PCT\"]\n",
    "    \n",
    "    # prepare collated results\n",
    "    agg_results_collated = pd.DataFrame(index=list(range(len(parameter_grid))), \n",
    "                                        columns=[\"accuracy_SMA\", \"opp_cost_SMA\"])\n",
    "    win_results_collated = []\n",
    "\n",
    "    # run walk forward validation \n",
    "    for i in range(len(parameter_grid)):\n",
    "        param_set = parameter_grid[i]\n",
    "        model = LogisticRegression(**param_set)\n",
    "        win_results, agg_results = models.categorical.walk_forward(\n",
    "            model = model, X = X_df, y = y_df, cost_weight = cost_df, rolling = True, \n",
    "            max_windows = 100, start_index = start_date\n",
    "        )\n",
    "        win_results_collated.append(win_results)\n",
    "        agg_results_collated.loc[i, \"accuracy_SMA\"] = agg_results.loc[\"SMA\", \"accuracy\"]\n",
    "        agg_results_collated.loc[i, \"opp_cost_SMA\"] = agg_results.loc[\"SMA\", \"opp_cost\"]\n",
    "\n",
    "    # save parameters\n",
    "    parameter_df = pd.DataFrame.from_records(parameter_grid)\n",
    "    combined_df = pd.concat([parameter_df, agg_results_collated], axis=1)\n",
    "    combined_df = combined_df.sort_values(by=[\"opp_cost_SMA\"], ascending=False)\n",
    "    combined_df.to_csv(f\"model_metrics/categorical/{file_dir}{future}.csv\", index=False)"
   ]
  }
 ],
 "metadata": {
  "kernelspec": {
   "display_name": "Python 3",
   "language": "python",
   "name": "python3"
  },
  "language_info": {
   "codemirror_mode": {
    "name": "ipython",
    "version": 3
   },
   "file_extension": ".py",
   "mimetype": "text/x-python",
   "name": "python",
   "nbconvert_exporter": "python",
   "pygments_lexer": "ipython3",
   "version": "3.8.3"
  },
  "toc": {
   "base_numbering": 1,
   "nav_menu": {},
   "number_sections": true,
   "sideBar": true,
   "skip_h1_title": false,
   "title_cell": "Table of Contents",
   "title_sidebar": "Contents",
   "toc_cell": false,
   "toc_position": {},
   "toc_section_display": true,
   "toc_window_display": false
  }
 },
 "nbformat": 4,
 "nbformat_minor": 4
}
